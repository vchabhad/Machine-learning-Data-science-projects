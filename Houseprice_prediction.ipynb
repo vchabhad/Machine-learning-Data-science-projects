{
  "nbformat": 4,
  "nbformat_minor": 0,
  "metadata": {
    "colab": {
      "provenance": []
    },
    "kernelspec": {
      "name": "python3",
      "display_name": "Python 3"
    },
    "language_info": {
      "name": "python"
    }
  },
  "cells": [
    {
      "cell_type": "code",
      "execution_count": null,
      "metadata": {
        "id": "x7ii-iBZY7RQ"
      },
      "outputs": [],
      "source": [
        "# Importing necessary libraries\n",
        "import pandas as pd\n",
        "import matplotlib.pyplot as plt\n",
        "import seaborn as sns\n",
        "from sklearn.impute import SimpleImputer\n",
        "from sklearn.preprocessing import OneHotEncoder\n",
        "from sklearn.model_selection import train_test_split\n",
        "from sklearn.preprocessing import StandardScaler\n",
        "from sklearn.ensemble import RandomForestRegressor\n",
        "from sklearn.linear_model import LinearRegression\n",
        "from sklearn.tree import DecisionTreeRegressor"
      ]
    },
    {
      "cell_type": "code",
      "source": [
        "#EDA and visualisation\n",
        "data = pd.read_csv(\"/content/drive/MyDrive/Colab Notebooks/data/house_price_prediction/train.csv\")\n",
        "data.head()\n",
        "\n",
        "\n"
      ],
      "metadata": {
        "id": "K3_Fi-V_bX1s"
      },
      "execution_count": null,
      "outputs": []
    },
    {
      "cell_type": "code",
      "source": [
        "data.info()"
      ],
      "metadata": {
        "id": "VMzqCr8XbraH"
      },
      "execution_count": null,
      "outputs": []
    },
    {
      "cell_type": "code",
      "source": [
        "# missing value treatment\n",
        "columns = data.columns\n",
        "missing_val =[i for i in columns if data[i].isnull().sum() != 0]\n",
        "\n",
        "data[missing_val].isnull().sum()"
      ],
      "metadata": {
        "id": "um2aW90VbyB1"
      },
      "execution_count": null,
      "outputs": []
    },
    {
      "cell_type": "code",
      "source": [
        "data[missing_val].dtypes"
      ],
      "metadata": {
        "id": "hfwAAPGfc_Ek"
      },
      "execution_count": null,
      "outputs": []
    },
    {
      "cell_type": "code",
      "source": [
        "# dividing different datatype columns for further treatment\n",
        "float_cols = [i for i in data.columns if data[i].dtype == \"float64\"]\n",
        "obj_cols = [i for i in data.columns if data[i].dtype == object]"
      ],
      "metadata": {
        "id": "JQJ4qloGdFIA"
      },
      "execution_count": null,
      "outputs": []
    },
    {
      "cell_type": "code",
      "source": [],
      "metadata": {
        "id": "HsZO7GmSh36U"
      },
      "execution_count": null,
      "outputs": []
    },
    {
      "cell_type": "code",
      "source": [
        "# initializing imputer to fill missing values\n",
        "missingfiller = SimpleImputer(strategy = 'mean')\n",
        "missingfillerfreq = SimpleImputer(strategy='most_frequent')\n",
        "# filling missing value with mean in float\n",
        "missingfiller.fit(data[float_cols])\n",
        "data[float_cols] = missingfiller.transform(data[float_cols])\n",
        "# filling most frequent value in missing cell for object type\n",
        "missingfillerfreq.fit(data[missing_val])\n",
        "data[missing_val] = missingfillerfreq.transform(data[missing_val])"
      ],
      "metadata": {
        "id": "jpb8JXD0dFOV"
      },
      "execution_count": null,
      "outputs": []
    },
    {
      "cell_type": "code",
      "source": [
        "data[missing_val].isnull().sum()\n",
        "\n",
        "# No missing values"
      ],
      "metadata": {
        "id": "C746wH10d4X7"
      },
      "execution_count": null,
      "outputs": []
    },
    {
      "cell_type": "code",
      "source": [
        "# Pre processing data\n",
        "# Endoding required data\n",
        "ohe = OneHotEncoder(drop = 'first')\n",
        "ohe_data = pd.get_dummies(data[obj_cols],drop_first=True)\n",
        "ohe_data"
      ],
      "metadata": {
        "id": "Vvwevo98g-7H"
      },
      "execution_count": null,
      "outputs": []
    },
    {
      "cell_type": "code",
      "source": [
        "# initializing features and target\n",
        "y = data.SalePrice\n",
        "data.drop(columns = ['Id','SalePrice','MSZoning',\n",
        " 'Street',\n",
        " 'Alley',\n",
        " 'LotShape',\n",
        " 'LandContour',\n",
        " 'Utilities',\n",
        " 'LotConfig',\n",
        " 'LandSlope',\n",
        " 'Neighborhood',\n",
        " 'Condition1',\n",
        " 'Condition2',\n",
        " 'BldgType',\n",
        " 'HouseStyle',\n",
        " 'RoofStyle',\n",
        " 'RoofMatl',\n",
        " 'Exterior1st',\n",
        " 'Exterior2nd',\n",
        " 'MasVnrType',\n",
        " 'ExterQual',\n",
        " 'ExterCond',\n",
        " 'Foundation',\n",
        " 'BsmtQual',\n",
        " 'BsmtCond',\n",
        " 'BsmtExposure',\n",
        " 'BsmtFinType1',\n",
        " 'BsmtFinType2',\n",
        " 'Heating',\n",
        " 'HeatingQC',\n",
        " 'CentralAir',\n",
        " 'Electrical',\n",
        " 'KitchenQual',\n",
        " 'Functional',\n",
        " 'FireplaceQu',\n",
        " 'GarageType',\n",
        " 'GarageFinish',\n",
        " 'GarageQual',\n",
        " 'GarageCond',\n",
        " 'PavedDrive',\n",
        " 'PoolQC',\n",
        " 'Fence',\n",
        " 'MiscFeature',\n",
        " 'SaleType',\n",
        " 'SaleCondition'],axis = 1,inplace = True)\n"
      ],
      "metadata": {
        "id": "k6nUND78jIlg"
      },
      "execution_count": null,
      "outputs": []
    },
    {
      "cell_type": "code",
      "source": [],
      "metadata": {
        "id": "xXY8QDCansUe"
      },
      "execution_count": null,
      "outputs": []
    },
    {
      "cell_type": "code",
      "source": [
        "# initializing train test split\n",
        "X = pd.concat([data,ohe_data],axis = 1)\n",
        "X = X.values\n",
        "y = y.values\n",
        "\n"
      ],
      "metadata": {
        "id": "D0mTnK6chVgZ"
      },
      "execution_count": null,
      "outputs": []
    },
    {
      "cell_type": "code",
      "source": [
        "# Scaling features\n",
        "scaler = StandardScaler()\n",
        "X = scaler.fit_transform(X)"
      ],
      "metadata": {
        "id": "IU-0_krrn_Ux"
      },
      "execution_count": null,
      "outputs": []
    },
    {
      "cell_type": "code",
      "source": [
        "# model building\n",
        "# Train test split\n",
        "X_train,X_test,y_train,y_test = train_test_split(X,y,test_size = 0.2,random_state = 7)\n"
      ],
      "metadata": {
        "id": "X3ohx3SzoKDW"
      },
      "execution_count": null,
      "outputs": []
    },
    {
      "cell_type": "code",
      "source": [
        "# Liner regression model\n",
        "linear = LinearRegression()\n",
        "linear.fit(X_train,y_train)\n",
        "linear.score(X_train,y_train)\n",
        "y_pred_linear = linear.predict(X_test)\n"
      ],
      "metadata": {
        "id": "g8btH4Qcolk2"
      },
      "execution_count": null,
      "outputs": []
    },
    {
      "cell_type": "code",
      "source": [
        "\n",
        "# random forest regressor\n",
        "randomreg = RandomForestRegressor()\n",
        "randomreg.fit(X_train,y_train)\n",
        "y_pred_random = randomreg.predict(X_test)\n",
        "\n",
        "# Note : Little bit of refference taken from internet as i was stuck in between code\n"
      ],
      "metadata": {
        "id": "BgR4ZDJyoVH-"
      },
      "execution_count": null,
      "outputs": []
    },
    {
      "cell_type": "code",
      "source": [
        "\n"
      ],
      "metadata": {
        "id": "icunKggP87M5"
      },
      "execution_count": null,
      "outputs": []
    }
  ]
}