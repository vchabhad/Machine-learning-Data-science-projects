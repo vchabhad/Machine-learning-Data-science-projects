{
  "nbformat": 4,
  "nbformat_minor": 0,
  "metadata": {
    "colab": {
      "provenance": []
    },
    "kernelspec": {
      "name": "python3",
      "display_name": "Python 3"
    },
    "language_info": {
      "name": "python"
    }
  },
  "cells": [
    {
      "cell_type": "code",
      "execution_count": null,
      "metadata": {
        "id": "h1tx57aNnNKs"
      },
      "outputs": [],
      "source": [
        "import numpy as np\n",
        "import pandas as pd\n",
        "import matplotlib.pyplot as plt\n",
        "import seaborn as sns\n",
        "from sklearn.preprocessing import StandardScaler\n",
        "from sklearn.model_selection import train_test_split\n",
        "from sklearn.linear_model import LinearRegression"
      ]
    },
    {
      "cell_type": "code",
      "source": [
        "url = \"/content/drive/MyDrive/Colab Notebooks/data/Nutrition__Physical_Activity__and_Obesity_-_Behavioral_Risk_Factor_Surveillance_System.csv\"\n",
        "data = pd.read_csv(url)\n",
        "data.head()\n",
        "data.rename(columns = {\"High_Confidence_Limit \" : \"High_Confidence_Limit\"} , inplace = True)\n",
        "#EDA and data visualisation"
      ],
      "metadata": {
        "id": "c9peIi1Trr96"
      },
      "execution_count": null,
      "outputs": []
    },
    {
      "cell_type": "code",
      "source": [
        "data.describe()\n",
        "data.isnull().sum()\n"
      ],
      "metadata": {
        "colab": {
          "base_uri": "https://localhost:8080/"
        },
        "id": "vhFY54i0wYtg",
        "outputId": "8208791f-51eb-4a5a-f74d-86150cb9f99b"
      },
      "execution_count": null,
      "outputs": [
        {
          "output_type": "execute_result",
          "data": {
            "text/plain": [
              "YearStart                         0\n",
              "YearEnd                           0\n",
              "LocationAbbr                      0\n",
              "LocationDesc                      0\n",
              "Datasource                        0\n",
              "Class                             0\n",
              "Topic                             0\n",
              "Question                          0\n",
              "Data_Value_Unit               53392\n",
              "Data_Value_Type                   0\n",
              "Data_Value                     5046\n",
              "Data_Value_Alt                 5046\n",
              "Data_Value_Footnote_Symbol    48346\n",
              "Data_Value_Footnote           48346\n",
              "Low_Confidence_Limit           5046\n",
              "High_Confidence_Limit          5046\n",
              "Sample_Size                    5046\n",
              "Total                         51485\n",
              "Age(years)                    41954\n",
              "Education                     45764\n",
              "Gender                        49578\n",
              "Income                        40043\n",
              "Race/Ethnicity                38136\n",
              "GeoLocation                    1008\n",
              "ClassID                           0\n",
              "TopicID                           0\n",
              "QuestionID                        0\n",
              "DataValueTypeID                   0\n",
              "LocationID                        0\n",
              "StratificationCategory1           0\n",
              "Stratification1                   0\n",
              "StratificationCategoryId1         0\n",
              "StratificationID1                 0\n",
              "dtype: int64"
            ]
          },
          "metadata": {},
          "execution_count": 147
        }
      ]
    },
    {
      "cell_type": "code",
      "source": [
        "data.drop([\"Data_Value_Unit\", \"Data_Value_Footnote_Symbol\", \"Data_Value_Footnote\",\"Total\",\"Age(years)\", \"Education\",\"Gender\" ,\"Income\" ,\"Race/Ethnicity\",\"Data_Value_Alt\" ],axis=1 , inplace = True)\n"
      ],
      "metadata": {
        "id": "10IN9fXCzIKC"
      },
      "execution_count": null,
      "outputs": []
    },
    {
      "cell_type": "code",
      "source": [],
      "metadata": {
        "id": "_Sj5SyiKH1DY"
      },
      "execution_count": null,
      "outputs": []
    },
    {
      "cell_type": "code",
      "source": [
        "data.dropna(inplace = True)"
      ],
      "metadata": {
        "id": "s2FiIYeezN9L"
      },
      "execution_count": null,
      "outputs": []
    },
    {
      "cell_type": "code",
      "source": [
        "data.head()\n",
        "data.isnull().sum()"
      ],
      "metadata": {
        "colab": {
          "base_uri": "https://localhost:8080/"
        },
        "id": "39D7TBou0DBB",
        "outputId": "15f7a93f-84a9-4277-9844-7dcb786aba60"
      },
      "execution_count": null,
      "outputs": [
        {
          "output_type": "execute_result",
          "data": {
            "text/plain": [
              "YearStart                    0\n",
              "YearEnd                      0\n",
              "LocationAbbr                 0\n",
              "LocationDesc                 0\n",
              "Datasource                   0\n",
              "Class                        0\n",
              "Topic                        0\n",
              "Question                     0\n",
              "Data_Value_Type              0\n",
              "Data_Value                   0\n",
              "Low_Confidence_Limit         0\n",
              "High_Confidence_Limit        0\n",
              "Sample_Size                  0\n",
              "GeoLocation                  0\n",
              "ClassID                      0\n",
              "TopicID                      0\n",
              "QuestionID                   0\n",
              "DataValueTypeID              0\n",
              "LocationID                   0\n",
              "StratificationCategory1      0\n",
              "Stratification1              0\n",
              "StratificationCategoryId1    0\n",
              "StratificationID1            0\n",
              "dtype: int64"
            ]
          },
          "metadata": {},
          "execution_count": 150
        }
      ]
    },
    {
      "cell_type": "code",
      "source": [
        "sns.displot(data.Low_Confidence_Limit)\n"
      ],
      "metadata": {
        "colab": {
          "base_uri": "https://localhost:8080/",
          "height": 387
        },
        "id": "ReSOatxRGnH7",
        "outputId": "a0e15209-89ce-41f8-a783-0e8a40a4982e"
      },
      "execution_count": null,
      "outputs": [
        {
          "output_type": "execute_result",
          "data": {
            "text/plain": [
              "<seaborn.axisgrid.FacetGrid at 0x7fb8ee69ee50>"
            ]
          },
          "metadata": {},
          "execution_count": 151
        },
        {
          "output_type": "display_data",
          "data": {
            "text/plain": [
              "<Figure size 360x360 with 1 Axes>"
            ],
            "image/png": "[encoded data removed]"
          },
          "metadata": {
            "needs_background": "light"
          }
        }
      ]
    },
    {
      "cell_type": "code",
      "source": [
        "sns.distplot(data.Data_Value)"
      ],
      "metadata": {
        "colab": {
          "base_uri": "https://localhost:8080/",
          "height": 354
        },
        "id": "x43eeRJLH6aw",
        "outputId": "5c0ff740-bcae-4a52-f146-eadc46ce9e8a"
      },
      "execution_count": null,
      "outputs": [
        {
          "output_type": "stream",
          "name": "stderr",
          "text": [
            "/usr/local/lib/python3.8/dist-packages/seaborn/distributions.py:2619: FutureWarning: `distplot` is a deprecated function and will be removed in a future version. Please adapt your code to use either `displot` (a figure-level function with similar flexibility) or `histplot` (an axes-level function for histograms).\n",
            "  warnings.warn(msg, FutureWarning)\n"
          ]
        },
        {
          "output_type": "execute_result",
          "data": {
            "text/plain": [
              "<matplotlib.axes._subplots.AxesSubplot at 0x7fb8f0a7cf10>"
            ]
          },
          "metadata": {},
          "execution_count": 152
        },
        {
          "output_type": "display_data",
          "data": {
            "text/plain": [
              "<Figure size 432x288 with 1 Axes>"
            ],
            "image/png": "[encoded data removed]"
          },
          "metadata": {
            "needs_background": "light"
          }
        }
      ]
    },
    {
      "cell_type": "code",
      "source": [
        "data.corr()\n",
        "#initialising fearures and target\n",
        "X = data[[\"Low_Confidence_Limit\",\"High_Confidence_Limit\",\"LocationID\"]]\n",
        "X = X.values\n",
        "y = data[\"Data_Value\"]\n",
        "y= y.values\n"
      ],
      "metadata": {
        "colab": {
          "base_uri": "https://localhost:8080/"
        },
        "id": "yu-SwOv8IAG1",
        "outputId": "04bf4581-87a2-4bb3-dbcb-8a1b61f2dfad"
      },
      "execution_count": null,
      "outputs": [
        {
          "output_type": "execute_result",
          "data": {
            "text/plain": [
              "array([32. , 32.3, 31.8, ..., 18.3, 24.1, 30.3])"
            ]
          },
          "metadata": {},
          "execution_count": 167
        }
      ]
    },
    {
      "cell_type": "code",
      "source": [
        "# Train test split and model building"
      ],
      "metadata": {
        "id": "gDG78X5FR9ji"
      },
      "execution_count": null,
      "outputs": []
    },
    {
      "cell_type": "code",
      "source": [
        "scaler = StandardScaler()\n",
        "scaled = scaler.fit_transform(X)\n",
        "\n",
        "X_train, X_test, y_train, y_test = train_test_split(X,y,test_size=0.2,random_state=7)\n",
        "\n",
        "# initialising linear regressor\n",
        "linear = LinearRegression()\n",
        "linear.fit(X_train, y_train)\n",
        "\n",
        "y_pred = linear.predict(X_test)\n",
        "\n",
        "\n",
        "plt.scatter(y_test,y_pred)"
      ],
      "metadata": {
        "colab": {
          "base_uri": "https://localhost:8080/",
          "height": 283
        },
        "id": "yd2Rh51PPD7_",
        "outputId": "db39db88-11f2-4073-a63b-ecac2e57de17"
      },
      "execution_count": null,
      "outputs": [
        {
          "output_type": "execute_result",
          "data": {
            "text/plain": [
              "<matplotlib.collections.PathCollection at 0x7fb8ed3768b0>"
            ]
          },
          "metadata": {},
          "execution_count": 183
        },
        {
          "output_type": "display_data",
          "data": {
            "text/plain": [
              "<Figure size 432x288 with 1 Axes>"
            ],
            "image/png": "[encoded data removed]"
          },
          "metadata": {
            "needs_background": "light"
          }
        }
      ]
    },
    {
      "cell_type": "code",
      "source": [
        "y_pred"
      ],
      "metadata": {
        "colab": {
          "base_uri": "https://localhost:8080/"
        },
        "id": "xRjB1pLITjjF",
        "outputId": "0dfea3a0-24b7-47ee-eee7-d803fce717ef"
      },
      "execution_count": null,
      "outputs": [
        {
          "output_type": "execute_result",
          "data": {
            "text/plain": [
              "array([56.44087716, 42.4146819 , 21.20377294, ..., 39.11332378,\n",
              "       45.64894856, 25.32209304])"
            ]
          },
          "metadata": {},
          "execution_count": 181
        }
      ]
    }
  ]
}